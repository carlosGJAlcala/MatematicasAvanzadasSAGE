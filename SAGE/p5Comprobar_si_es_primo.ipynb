{
 "cells": [
  {
   "cell_type": "code",
   "execution_count": 17,
   "metadata": {},
   "outputs": [
    {
     "name": "stdout",
     "output_type": "stream",
     "text": [
      "37\n"
     ]
    },
    {
     "data": {
      "text/plain": [
       "18889465931478580854784"
      ]
     },
     "execution_count": 17,
     "metadata": {},
     "output_type": "execute_result"
    }
   ],
   "source": [
    "b=4\n",
    "n=38\n",
    "a=171\n"
   ]
  },
  {
   "cell_type": "code",
   "execution_count": 8,
   "metadata": {},
   "outputs": [
    {
     "name": "stdout",
     "output_type": "stream",
     "text": [
      "5\n",
      "23\n",
      "1\n",
      "47\n"
     ]
    }
   ],
   "source": [
    "def ptf(n,b,a):\n",
    "    q=a/(n-1)\n",
    "    q=round(q)\n",
    "    r=Mod(a,(n-1))\n",
    "    print(q)\n",
    "    print(r)\n",
    "    b**(r)\n",
    "\n",
    "ptf(96,2,142)"
   ]
  },
  {
   "cell_type": "code",
   "execution_count": 74,
   "metadata": {},
   "outputs": [
    {
     "name": "stdout",
     "output_type": "stream",
     "text": [
      "el exponente de mi numero par es 3\n",
      "mi numero impar es 117\n",
      "no es primo el numero 937 con base 3\n",
      "el exponente de mi numero par es 2\n",
      "mi numero impar es 363\n",
      "no es primo el numero 1453 con base 2\n"
     ]
    }
   ],
   "source": [
    "def testMiller(n,b):\n",
    "    if(Mod(n,2)!=0):\n",
    "        t=1\n",
    "        s=0\n",
    "        arr=descomponer(n-1)\n",
    "        for i in arr:\n",
    "            if(Mod(i,2)==0):\n",
    "                s+=1\n",
    "            else:\n",
    "                t*=i\n",
    "        print(\"el exponente de mi numero par es \"+str(s))\n",
    "        print(\"mi numero impar es \"+str(t))\n",
    "        if(Mod((b**t),n)!=1):\n",
    "            for j in range(0,s-1):\n",
    "                modulo=Mod((2**j)*t,n)\n",
    "                if( modulo != -1):\n",
    "                    return True\n",
    "                \n",
    "    return False\n",
    "\n",
    "def comprobarPrimo(n,b):\n",
    "    solucion=\"no es primo el numero \"+str(n)+\" con base \"+str(b) if(testMiller(n,b))else\"no podemos asegurar de que no es primo\"\n",
    "    return solucion\n",
    "print(comprobarPrimo(937,3))\n",
    "\n",
    "print(comprobarPrimo(1453,2))"
   ]
  },
  {
   "cell_type": "code",
   "execution_count": 32,
   "metadata": {},
   "outputs": [
    {
     "name": "stdout",
     "output_type": "stream",
     "text": [
      "2\n",
      "2\n",
      "5\n",
      "5\n"
     ]
    }
   ],
   "source": [
    "\n",
    "def descomponer(numero):\n",
    "    arr=[]\n",
    "    # Comience con dos, que es el primer primo\n",
    "    factor = 2\n",
    "    # Continúe hasta que el factor sea mayor que el número\n",
    "    while factor <= numero:\n",
    "    # Verificar si el factor es un divisor de número\n",
    "        if not (numero % factor != 0):\n",
    "        # Si es así, imprímalo y divida el número original\n",
    "            arr.append(factor)\n",
    "            numero /= factor\n",
    "        else:\n",
    "        # Si no es así, incremente el factor en uno\n",
    "            factor += 1\n",
    "    return arr\n",
    "arr=descomponer(100)\n",
    "for i in arr:\n",
    "    print(i)\n",
    "# Debe imprimir 2,2,5,5"
   ]
  },
  {
   "cell_type": "code",
   "execution_count": 60,
   "metadata": {},
   "outputs": [
    {
     "data": {
      "text/plain": [
       "'es primo'"
      ]
     },
     "execution_count": 60,
     "metadata": {},
     "output_type": "execute_result"
    }
   ],
   "source": [
    "from math import factorial\n",
    "def teoremaWilson(n):\n",
    "    a=factorial(n-1)\n",
    "    modulo=Mod(a,n)\n",
    "    if(modulo == -1):\n",
    "        return \"es primo\"\n",
    "    return \"no es primo\"\n",
    "\n",
    "\n",
    "\n"
   ]
  },
  {
   "cell_type": "code",
   "execution_count": 76,
   "metadata": {},
   "outputs": [
    {
     "name": "stdout",
     "output_type": "stream",
     "text": [
      "9.703636169433594e-05\n"
     ]
    }
   ],
   "source": [
    "antes=walltime()\n",
    "is_prime(1453)\n",
    "ahora=walltime()\n",
    "tiempo=ahora-antes\n",
    "print(str(tiempo))"
   ]
  },
  {
   "cell_type": "code",
   "execution_count": 75,
   "metadata": {},
   "outputs": [
    {
     "name": "stdout",
     "output_type": "stream",
     "text": [
      "0.00026798248291015625\n"
     ]
    }
   ],
   "source": [
    "antes=walltime()\n",
    "teoremaWilson(1453)\n",
    "ahora=walltime()\n",
    "tiempo=ahora-antes\n",
    "print(str(tiempo))"
   ]
  },
  {
   "cell_type": "code",
   "execution_count": 40,
   "metadata": {},
   "outputs": [
    {
     "name": "stdout",
     "output_type": "stream",
     "text": [
      "mi numero binario es 1101\n",
      "mi x es 2\n",
      "mi x es 1\n",
      "mi x es 1\n",
      "mi x es 1\n",
      "mi solucion es\n",
      "2\n"
     ]
    }
   ],
   "source": [
    "def incad(cadena):\n",
    "    return cadena[::-1]\n",
    "\n",
    "\n",
    "def expbinaria(b,e,m):\n",
    "    bine=format(e, \"b\")\n",
    "    guardar=incad(str(bine))\n",
    "    arre=[]\n",
    "    print(\"mi numero binario es \"+guardar)\n",
    "    for x in guardar:\n",
    "        numero=int(x)\n",
    "        arre.append(numero)\n",
    "    arrsol=[]\n",
    "    for j in range(0,len(arre)):\n",
    "            if(len(arrsol)==0):\n",
    "                x=b\n",
    "            else:\n",
    "                x=arrsol[j-1]**2\n",
    "                if(x>m):\n",
    "                    x=Mod(x,m)\n",
    "            print(\"mi x es \"+str(x))\n",
    "            arrsol.append(x)\n",
    "    u=1\n",
    "    s=1\n",
    "    \n",
    "    for a in range(0,len(arrsol)):\n",
    "        u=arrsol[a]**arre[a]\n",
    "        s=u*s\n",
    "    print(\"mi solucion es\")\n",
    "    print(s)\n",
    "expbinaria(2,11,3)"
   ]
  },
  {
   "cell_type": "code",
   "execution_count": 35,
   "metadata": {},
   "outputs": [
    {
     "name": "stdout",
     "output_type": "stream",
     "text": [
      "1011\n"
     ]
    }
   ],
   "source": [
    "bine=format(11, \"b\")\n",
    "print(bine)"
   ]
  },
  {
   "cell_type": "code",
   "execution_count": null,
   "metadata": {},
   "outputs": [],
   "source": []
  }
 ],
 "metadata": {
  "kernelspec": {
   "display_name": "SageMath 9.2",
   "language": "sage",
   "name": "sagemath"
  },
  "language_info": {
   "codemirror_mode": {
    "name": "ipython",
    "version": 3
   },
   "file_extension": ".py",
   "mimetype": "text/x-python",
   "name": "python",
   "nbconvert_exporter": "python",
   "pygments_lexer": "ipython3",
   "version": "3.7.7"
  }
 },
 "nbformat": 4,
 "nbformat_minor": 4
}
