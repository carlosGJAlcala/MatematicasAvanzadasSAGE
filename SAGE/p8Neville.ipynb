{
 "cells": [
  {
   "cell_type": "code",
   "execution_count": 22,
   "metadata": {},
   "outputs": [],
   "source": [
    "def neville(fx1,x3):\n",
    "    l2=[]\n",
    "    for i in range(len(fx1)):\n",
    "        if(i>=1):\n",
    "            ln=(x-fx1[i-1])*x3[i]-(x-fx1[i])*x3[i-1]\n",
    "            ld=fx1[i]-fx1[i-1]\n",
    "            l=ln/ld\n",
    "            l2.append(l)\n",
    "    fx1.pop()\n",
    "    x3=l2.copy()\n",
    "    l2.clear()\n",
    "    if(len(fx1)>=1):\n",
    "        print(\"**********\")\n",
    "        print(x3)\n",
    "        neville(fx1,x3)\n",
    "    return x3"
   ]
  },
  {
   "cell_type": "code",
   "execution_count": null,
   "metadata": {},
   "outputs": [],
   "source": []
  },
  {
   "cell_type": "code",
   "execution_count": null,
   "metadata": {},
   "outputs": [],
   "source": []
  },
  {
   "cell_type": "code",
   "execution_count": null,
   "metadata": {},
   "outputs": [],
   "source": []
  },
  {
   "cell_type": "code",
   "execution_count": null,
   "metadata": {},
   "outputs": [],
   "source": []
  },
  {
   "cell_type": "code",
   "execution_count": null,
   "metadata": {},
   "outputs": [],
   "source": []
  },
  {
   "cell_type": "code",
   "execution_count": null,
   "metadata": {},
   "outputs": [],
   "source": []
  },
  {
   "cell_type": "code",
   "execution_count": null,
   "metadata": {},
   "outputs": [],
   "source": []
  },
  {
   "cell_type": "code",
   "execution_count": 48,
   "metadata": {},
   "outputs": [
    {
     "name": "stdout",
     "output_type": "stream",
     "text": [
      "**********\n",
      "[-54.9000000000000*x + 16.4700000000000, -13.7500000000000*x + 8.24000000000000, -3.93333333333333*x + 4.31333333333333, -1.90000000000000*x + 2.89000000000000, -1.40000000000000*x + 2.49000000000000]\n",
      "**********\n",
      "[411.500000000000*x^2 - 178.350000000000*x + 24.7000000000000, 49.0833333333333*x^2 - 43.2000000000000*x + 12.1666666666667, 6.77777777777779*x^2 - 11.3888888888889*x + 6.21111111111111, 4.99999999999997*x^2 - 9.39999999999997*x + 5.69000000000000]\n",
      "**********\n",
      "[-3624.16666666667*x^3 + 2125.41666666667*x^2 - 438.833333333334*x + 37.2333333333333, -211.527777777778*x^3 + 250.444444444444*x^2 - 104.788888888889*x + 18.1222222222222, -5.92592592592607*x^3 + 15.7777777777780*x^2 - 15.7777777777778*x + 6.90592592592593]\n",
      "**********\n",
      "[34126.3888888889*x^4 - 25786.5277777778*x^3 + 7340.83333333334*x^2 - 963.988888888890*x + 56.3444444444445, 1028.00925925926*x^4 - 1590.46296296296*x^3 + 930.166666666666*x^2 - 249.881481481481*x + 29.3385185185185]\n",
      "**********\n",
      "[-330983.796296296*x^5 + 309185.416666667*x^4 - 114089.259259259*x^3 + 20892.5740740741*x^2 - 1948.15555555556*x + 83.3503703703704]\n"
     ]
    }
   ],
   "source": [
    "R.<x>=RR[]\n",
    "fx1=[0.1,0.2,0.4,0.7,0.8,1]\n",
    "x3=[10.98,5.49,2.74,1.56,1.37,1.09]\n",
    "x2=neville(fx1,x3)"
   ]
  },
  {
   "cell_type": "code",
   "execution_count": 49,
   "metadata": {},
   "outputs": [
    {
     "data": {
      "text/plain": [
       "[-54.9000000000000*x + 16.4700000000000,\n",
       " -13.7500000000000*x + 8.24000000000000,\n",
       " -3.93333333333333*x + 4.31333333333333,\n",
       " -1.90000000000000*x + 2.89000000000000,\n",
       " -1.40000000000000*x + 2.49000000000000]"
      ]
     },
     "execution_count": 49,
     "metadata": {},
     "output_type": "execute_result"
    }
   ],
   "source": [
    "x2"
   ]
  },
  {
   "cell_type": "code",
   "execution_count": 50,
   "metadata": {},
   "outputs": [
    {
     "data": {
      "text/plain": [
       "[1.09000000000000,\n",
       " -1.40000000000000*x + 2.49000000000000,\n",
       " 1.66666666666666*x^2 - 4.39999999999999*x + 3.82333333333333,\n",
       " -5.69444444444447*x^3 + 15.9027777777778*x^2 - 16.1305555555556*x + 7.01222222222222,\n",
       " 23.1944444444444*x^4 - 72.9583333333333*x^3 + 86.8777777777778*x^2 - 48.2316666666667*x + 12.2077777777778,\n",
       " -246.671075837743*x^5 + 787.874779541447*x^4 - 970.841049382716*x^3 + 579.233245149912*x^2 - 171.764541446208*x + 23.2586419753086]"
      ]
     },
     "execution_count": 50,
     "metadata": {},
     "output_type": "execute_result"
    }
   ],
   "source": [
    "R.lagrange_polynomial([(0.1,10.98),(0.2,5.49),(0.4,2.74),(0.7,1.56),(0.8,1.37),(1,1.09)],algorithm=\"neville\")\n"
   ]
  },
  {
   "cell_type": "code",
   "execution_count": 51,
   "metadata": {},
   "outputs": [
    {
     "data": {
      "text/plain": [
       "[1.00000000000000,\n",
       " -0.714285714285714*x + 1.77857142857143,\n",
       " 0.399936010238360*x^2 - 1.69812829947208*x + 2.37579587266037,\n",
       " -0.122023372124955*x^3 + 0.890469966180679*x^2 - 2.34862269393300*x + 2.66005517514731,\n",
       " 0.0193250552448950*x^4 - 0.252660745580445*x^3 + 1.20635152169716*x^2 - 2.67591596512236*x + 2.78340625914735,\n",
       " -0.00160897140006798*x^5 + 0.0390349548957277*x^4 - 0.338673299582419*x^3 + 1.37798710898795*x^2 - 2.83578783054913*x + 2.83978857305579]"
      ]
     },
     "execution_count": 51,
     "metadata": {},
     "output_type": "execute_result"
    }
   ],
   "source": [
    "R.lagrange_polynomial([(10.98,0.1),(5.49,0.2),(2.74,0.4),(1.56,0.7),(1.37,0.8),(1.09,1)], algorithm=\"neville\")"
   ]
  },
  {
   "cell_type": "code",
   "execution_count": 33,
   "metadata": {},
   "outputs": [],
   "source": [
    "x=0.6"
   ]
  },
  {
   "cell_type": "code",
   "execution_count": 35,
   "metadata": {},
   "outputs": [
    {
     "data": {
      "text/plain": [
       "1.60943791243410"
      ]
     },
     "execution_count": 35,
     "metadata": {},
     "output_type": "execute_result"
    }
   ],
   "source": [
    "log(3^1/0.6)"
   ]
  },
  {
   "cell_type": "code",
   "execution_count": 36,
   "metadata": {},
   "outputs": [
    {
     "data": {
      "text/plain": [
       "1.56617161779059"
      ]
     },
     "execution_count": 36,
     "metadata": {},
     "output_type": "execute_result"
    }
   ],
   "source": [
    " -0.00160897140006798*x^5 + 0.0390349548957277*x^4 - 0.338673299582419*x^3 + 1.37798710898795*x^2 - 2.83578783054913*x + 2.83978857305579"
   ]
  },
  {
   "cell_type": "code",
   "execution_count": 60,
   "metadata": {},
   "outputs": [],
   "source": [
    "fx1=[0.1,0.2,0.4,0.7,0.8,1]\n",
    "x3=[10.98,5.49,2.74,1.56,1.37,1.09]\n",
    "\n",
    "ln=(-x+0.2)*10.98-(-x+0.1)*5.49\n",
    "ld=0.2-0.1\n",
    "l=ln/ld"
   ]
  },
  {
   "cell_type": "code",
   "execution_count": 61,
   "metadata": {},
   "outputs": [
    {
     "data": {
      "text/plain": [
       "-54.9000000000000*x + 16.4700000000000"
      ]
     },
     "execution_count": 61,
     "metadata": {},
     "output_type": "execute_result"
    }
   ],
   "source": [
    "l"
   ]
  },
  {
   "cell_type": "code",
   "execution_count": 46,
   "metadata": {},
   "outputs": [
    {
     "name": "stdout",
     "output_type": "stream",
     "text": [
      "\u001b[H\u001b[2J"
     ]
    }
   ],
   "source": [
    "clear(x)"
   ]
  },
  {
   "cell_type": "code",
   "execution_count": 64,
   "metadata": {},
   "outputs": [],
   "source": [
    "R.<x>=RR[] \n",
    "n=(x-0.1)*2.74-(x-0.4)*10.98\n",
    "d=0.4-0.1\n",
    "l=n/d"
   ]
  },
  {
   "cell_type": "code",
   "execution_count": 65,
   "metadata": {},
   "outputs": [
    {
     "data": {
      "text/plain": [
       "-27.4666666666667*x + 13.7266666666667"
      ]
     },
     "execution_count": 65,
     "metadata": {},
     "output_type": "execute_result"
    }
   ],
   "source": [
    "l"
   ]
  },
  {
   "cell_type": "code",
   "execution_count": 66,
   "metadata": {},
   "outputs": [],
   "source": [
    "n=(x-0.4)*1.09-(x-1)*2.74\n",
    "d=1-0.4\n",
    "l2=n/d"
   ]
  },
  {
   "cell_type": "code",
   "execution_count": 67,
   "metadata": {},
   "outputs": [
    {
     "data": {
      "text/plain": [
       "-2.75000000000000*x + 3.84000000000000"
      ]
     },
     "execution_count": 67,
     "metadata": {},
     "output_type": "execute_result"
    }
   ],
   "source": [
    "l2"
   ]
  },
  {
   "cell_type": "code",
   "execution_count": 68,
   "metadata": {},
   "outputs": [],
   "source": [
    "n=(x-0.1)*l2-(x-1)*l\n",
    "d=1-0.1\n",
    "l3=n/d"
   ]
  },
  {
   "cell_type": "code",
   "execution_count": 69,
   "metadata": {},
   "outputs": [
    {
     "data": {
      "text/plain": [
       "27.4629629629630*x^2 - 41.1981481481481*x + 14.8251851851852"
      ]
     },
     "execution_count": 69,
     "metadata": {},
     "output_type": "execute_result"
    }
   ],
   "source": [
    "l3"
   ]
  },
  {
   "cell_type": "code",
   "execution_count": 71,
   "metadata": {},
   "outputs": [
    {
     "data": {
      "text/plain": [
       "-0.00703703703698011"
      ]
     },
     "execution_count": 71,
     "metadata": {},
     "output_type": "execute_result"
    }
   ],
   "source": [
    "x=0.6\n",
    "27.4629629629630*x^2 - 41.1981481481481*x + 14.8251851851852"
   ]
  },
  {
   "cell_type": "code",
   "execution_count": 7,
   "metadata": {},
   "outputs": [
    {
     "data": {
      "text/plain": [
       "[1.09000000000000,\n",
       " -2.75000000000000*x + 3.84000000000000,\n",
       " 27.4629629629630*x^2 - 41.1981481481481*x + 14.8251851851852]"
      ]
     },
     "execution_count": 7,
     "metadata": {},
     "output_type": "execute_result"
    }
   ],
   "source": [
    "R.<x>=RR[]\n",
    "R.lagrange_polynomial([(0.1,10.98),(0.4,2.74),(1,1.09)], algorithm=\"neville\")"
   ]
  },
  {
   "cell_type": "code",
   "execution_count": null,
   "metadata": {},
   "outputs": [],
   "source": [
    "fx1=[0.1,0.2,0.4,0.7,0.8,1]\n",
    "x3=[10.98,5.49,2.74,1.56,1.37,1.09]\n",
    "\n",
    "ln=(-x+0.2)*10.98-(-x+0.1)*5.49\n",
    "ld=0.2-0.1\n",
    "l=ln/ld"
   ]
  },
  {
   "cell_type": "code",
   "execution_count": 61,
   "metadata": {},
   "outputs": [],
   "source": [
    "puntos=[(1,1),(2,5),(6,3),(8,8)]"
   ]
  },
  {
   "cell_type": "code",
   "execution_count": 62,
   "metadata": {},
   "outputs": [
    {
     "data": {
      "text/plain": [
       "[8, 5/2*x - 12, 1/2*x^2 - 9/2*x + 12, 1/5*x^3 - 27/10*x^2 + 107/10*x - 36/5]"
      ]
     },
     "execution_count": 62,
     "metadata": {},
     "output_type": "execute_result"
    }
   ],
   "source": [
    "R.<x>=QQ[]\n",
    "R.lagrange_polynomial(puntos, algorithm=\"neville\")"
   ]
  },
  {
   "cell_type": "code",
   "execution_count": 13,
   "metadata": {},
   "outputs": [],
   "source": [
    "fx1=[1,2,6,8]\n",
    "x3=[1,5,3,8]\n",
    "\n",
    "n=(x-fx1[2])*x3[0]-(x-fx1[0])*x3[1]\n",
    "d=fx1[0]-fx1[1]\n",
    "l=n/d"
   ]
  },
  {
   "cell_type": "code",
   "execution_count": 14,
   "metadata": {},
   "outputs": [
    {
     "data": {
      "text/plain": [
       "4*x - 3"
      ]
     },
     "execution_count": 14,
     "metadata": {},
     "output_type": "execute_result"
    }
   ],
   "source": [
    "l"
   ]
  },
  {
   "cell_type": "code",
   "execution_count": 15,
   "metadata": {},
   "outputs": [],
   "source": [
    "def neville(fx1,x3):\n",
    "    l2=[]\n",
    "    for i in range(len(fx1)):\n",
    "        if(i>=1):\n",
    "            ln=(x-fx1[i-1])*x3[i]-(x-fx1[i])*x3[i-1]\n",
    "            ld=fx1[i]-fx1[i-1]\n",
    "            l=ln/ld\n",
    "            l2.append(l)\n",
    "    fx1.pop()\n",
    "    x3=l2.copy()\n",
    "    l2.clear()\n",
    "    if(len(fx1)>=1):\n",
    "        print(\"**********\")\n",
    "        print(x3)\n",
    "       \n",
    "    return x3"
   ]
  },
  {
   "cell_type": "code",
   "execution_count": 16,
   "metadata": {},
   "outputs": [
    {
     "name": "stdout",
     "output_type": "stream",
     "text": [
      "**********\n",
      "[4*x - 3, -1/2*x + 6, 5/2*x - 12]\n",
      "**********\n",
      "[-9/2*x^2 + 35/2*x - 12, 3/4*x^2 - 13/2*x + 15]\n",
      "**********\n",
      "[21/4*x^3 - 135/4*x^2 + 137/2*x - 39]\n"
     ]
    },
    {
     "data": {
      "text/plain": [
       "[4*x - 3, -1/2*x + 6, 5/2*x - 12]"
      ]
     },
     "execution_count": 16,
     "metadata": {},
     "output_type": "execute_result"
    }
   ],
   "source": [
    "neville(fx1,x3)"
   ]
  },
  {
   "cell_type": "code",
   "execution_count": 19,
   "metadata": {},
   "outputs": [],
   "source": [
    "n=(x-6)*(-1/2*x + 6)-(x-1)*(5/2*x - 12)\n",
    "d=1-6\n",
    "l1=n/d"
   ]
  },
  {
   "cell_type": "code",
   "execution_count": 20,
   "metadata": {},
   "outputs": [
    {
     "data": {
      "text/plain": [
       "3/5*x^2 - 47/10*x + 48/5"
      ]
     },
     "execution_count": 20,
     "metadata": {},
     "output_type": "execute_result"
    }
   ],
   "source": [
    "l1"
   ]
  },
  {
   "cell_type": "code",
   "execution_count": null,
   "metadata": {},
   "outputs": [],
   "source": [
    "x=1.2\n",
    "4*x - 3"
   ]
  },
  {
   "cell_type": "code",
   "execution_count": null,
   "metadata": {},
   "outputs": [],
   "source": [
    "-1/2*x + 6"
   ]
  },
  {
   "cell_type": "code",
   "execution_count": null,
   "metadata": {},
   "outputs": [],
   "source": [
    "5/2*x - 12"
   ]
  },
  {
   "cell_type": "code",
   "execution_count": null,
   "metadata": {},
   "outputs": [],
   "source": []
  },
  {
   "cell_type": "code",
   "execution_count": null,
   "metadata": {},
   "outputs": [],
   "source": []
  },
  {
   "cell_type": "code",
   "execution_count": null,
   "metadata": {},
   "outputs": [],
   "source": []
  },
  {
   "cell_type": "code",
   "execution_count": null,
   "metadata": {},
   "outputs": [],
   "source": []
  },
  {
   "cell_type": "code",
   "execution_count": null,
   "metadata": {},
   "outputs": [],
   "source": []
  },
  {
   "cell_type": "code",
   "execution_count": 48,
   "metadata": {},
   "outputs": [
    {
     "data": {
      "text/plain": [
       "[2, x - 1, 1/6*x^2 + 1/6*x]"
      ]
     },
     "execution_count": 48,
     "metadata": {},
     "output_type": "execute_result"
    }
   ],
   "source": [
    "fx1=[0,2,3,5,6]\n",
    "x3=[0,1,2,1,3]\n",
    "puntos=[(0,0),(2,1),(3,2)]\n",
    "R.<x>=QQ[]\n",
    "R.lagrange_polynomial(puntos, algorithm=\"neville\")"
   ]
  },
  {
   "cell_type": "code",
   "execution_count": 50,
   "metadata": {},
   "outputs": [],
   "source": [
    "x=1.2"
   ]
  },
  {
   "cell_type": "code",
   "execution_count": 51,
   "metadata": {},
   "outputs": [
    {
     "data": {
      "text/plain": [
       "0.440000000000000"
      ]
     },
     "execution_count": 51,
     "metadata": {},
     "output_type": "execute_result"
    }
   ],
   "source": [
    "1/6*x^2 + 1/6*x"
   ]
  },
  {
   "cell_type": "code",
   "execution_count": 52,
   "metadata": {},
   "outputs": [
    {
     "data": {
      "text/plain": [
       "0.200000000000000"
      ]
     },
     "execution_count": 52,
     "metadata": {},
     "output_type": "execute_result"
    }
   ],
   "source": [
    "x - 1"
   ]
  },
  {
   "cell_type": "code",
   "execution_count": 47,
   "metadata": {},
   "outputs": [
    {
     "data": {
      "text/plain": [
       "2.90000000000000"
      ]
     },
     "execution_count": 47,
     "metadata": {},
     "output_type": "execute_result"
    }
   ],
   "source": [
    " -1/2*x + 7/2"
   ]
  },
  {
   "cell_type": "code",
   "execution_count": 26,
   "metadata": {},
   "outputs": [
    {
     "name": "stdout",
     "output_type": "stream",
     "text": [
      "**********\n",
      "[1/2*x, x - 1, -1/2*x + 7/2, 2*x - 9]\n",
      "**********\n",
      "[1/4*x^2, -3/2*x^2 + 17/2*x - 10, 5/4*x^2 - 21/2*x + 89/4]\n",
      "**********\n",
      "[-7/8*x^3 + 9/2*x^2 - 5*x, 11/4*x^3 - 26*x^2 + 315/4*x - 149/2]\n",
      "**********\n",
      "[29/16*x^4 - 129/8*x^3 + 371/8*x^2 - 169/4*x]\n"
     ]
    },
    {
     "data": {
      "text/plain": [
       "[1/2*x, x - 1, -1/2*x + 7/2, 2*x - 9]"
      ]
     },
     "execution_count": 26,
     "metadata": {},
     "output_type": "execute_result"
    }
   ],
   "source": [
    "neville(fx1,x3)"
   ]
  },
  {
   "cell_type": "code",
   "execution_count": null,
   "metadata": {},
   "outputs": [],
   "source": [
    "1/2*x"
   ]
  },
  {
   "cell_type": "code",
   "execution_count": 31,
   "metadata": {},
   "outputs": [
    {
     "data": {
      "text/plain": [
       "[3,\n",
       " 2*x - 9,\n",
       " 5/6*x^2 - 43/6*x + 16,\n",
       " 1/3*x^3 - 23/6*x^2 + 83/6*x - 14,\n",
       " 7/90*x^4 - 41/45*x^3 + 146/45*x^2 - 89/30*x]"
      ]
     },
     "execution_count": 31,
     "metadata": {},
     "output_type": "execute_result"
    }
   ],
   "source": [
    "R.<x>=QQ[]\n",
    "R.lagrange_polynomial(puntos, algorithm=\"neville\")"
   ]
  },
  {
   "cell_type": "code",
   "execution_count": 32,
   "metadata": {},
   "outputs": [
    {
     "data": {
      "text/plain": [
       "-0.301120000000000"
      ]
     },
     "execution_count": 32,
     "metadata": {},
     "output_type": "execute_result"
    }
   ],
   "source": [
    "x=1.2\n",
    "7/90*x^4 - 41/45*x^3 + 146/45*x^2 - 89/30*x"
   ]
  },
  {
   "cell_type": "code",
   "execution_count": 44,
   "metadata": {},
   "outputs": [
    {
     "data": {
      "text/plain": [
       "0.209600000000000"
      ]
     },
     "execution_count": 44,
     "metadata": {},
     "output_type": "execute_result"
    }
   ],
   "source": [
    "x=1.2\n",
    "-2/15*x^3 + 5/6*x^2 - 19/30*x"
   ]
  },
  {
   "cell_type": "code",
   "execution_count": null,
   "metadata": {},
   "outputs": [],
   "source": []
  },
  {
   "cell_type": "code",
   "execution_count": null,
   "metadata": {},
   "outputs": [],
   "source": []
  },
  {
   "cell_type": "code",
   "execution_count": null,
   "metadata": {},
   "outputs": [],
   "source": []
  },
  {
   "cell_type": "code",
   "execution_count": null,
   "metadata": {},
   "outputs": [],
   "source": []
  },
  {
   "cell_type": "code",
   "execution_count": null,
   "metadata": {},
   "outputs": [],
   "source": []
  },
  {
   "cell_type": "code",
   "execution_count": null,
   "metadata": {},
   "outputs": [],
   "source": []
  },
  {
   "cell_type": "code",
   "execution_count": null,
   "metadata": {},
   "outputs": [],
   "source": []
  },
  {
   "cell_type": "code",
   "execution_count": 33,
   "metadata": {},
   "outputs": [
    {
     "data": {
      "text/plain": [
       "-2.34400000000000"
      ]
     },
     "execution_count": 33,
     "metadata": {},
     "output_type": "execute_result"
    }
   ],
   "source": [
    "1/3*x^3 - 23/6*x^2 + 83/6*x - 14"
   ]
  },
  {
   "cell_type": "code",
   "execution_count": 41,
   "metadata": {},
   "outputs": [
    {
     "data": {
      "text/plain": [
       "-2/15*x^3 + 5/6*x^2 - 19/30*x"
      ]
     },
     "execution_count": 41,
     "metadata": {},
     "output_type": "execute_result"
    }
   ],
   "source": [
    "-2/15*x^3 + 5/6*x^2 - 19/30*x"
   ]
  },
  {
   "cell_type": "code",
   "execution_count": 35,
   "metadata": {},
   "outputs": [
    {
     "data": {
      "text/plain": [
       "-6.60000000000000"
      ]
     },
     "execution_count": 35,
     "metadata": {},
     "output_type": "execute_result"
    }
   ],
   "source": [
    " 2*x - 9"
   ]
  },
  {
   "cell_type": "code",
   "execution_count": 36,
   "metadata": {},
   "outputs": [
    {
     "data": {
      "text/plain": [
       "2.90000000000000"
      ]
     },
     "execution_count": 36,
     "metadata": {},
     "output_type": "execute_result"
    }
   ],
   "source": [
    "-1/2*x + 7/2"
   ]
  },
  {
   "cell_type": "code",
   "execution_count": 37,
   "metadata": {},
   "outputs": [
    {
     "data": {
      "text/plain": [
       "2.90000000000000"
      ]
     },
     "execution_count": 37,
     "metadata": {},
     "output_type": "execute_result"
    }
   ],
   "source": [
    "-1/2*x + 7/2"
   ]
  },
  {
   "cell_type": "code",
   "execution_count": 38,
   "metadata": {},
   "outputs": [
    {
     "data": {
      "text/plain": [
       "0.200000000000000"
      ]
     },
     "execution_count": 38,
     "metadata": {},
     "output_type": "execute_result"
    }
   ],
   "source": [
    "x - 1"
   ]
  },
  {
   "cell_type": "code",
   "execution_count": 39,
   "metadata": {},
   "outputs": [
    {
     "data": {
      "text/plain": [
       "0.600000000000000"
      ]
     },
     "execution_count": 39,
     "metadata": {},
     "output_type": "execute_result"
    }
   ],
   "source": [
    "1/2*x"
   ]
  },
  {
   "cell_type": "code",
   "execution_count": null,
   "metadata": {},
   "outputs": [],
   "source": [
    "n=(x-6)*(-1/2*x + 6)-(x-1)*(5/2*x - 12)\n",
    "d=1-6\n",
    "l1=n/d"
   ]
  },
  {
   "cell_type": "code",
   "execution_count": 1,
   "metadata": {},
   "outputs": [],
   "source": [
    "var('x')\n",
    "var('y')\n",
    "var('z')\n",
    "f=x^2+y^2+5*z^2+x*y+2*y*z-2*z*x+2*z"
   ]
  },
  {
   "cell_type": "code",
   "execution_count": 2,
   "metadata": {},
   "outputs": [
    {
     "data": {
      "text/plain": [
       "2*x + y - 2*z"
      ]
     },
     "execution_count": 2,
     "metadata": {},
     "output_type": "execute_result"
    }
   ],
   "source": [
    "diff(f,x)"
   ]
  },
  {
   "cell_type": "code",
   "execution_count": 3,
   "metadata": {},
   "outputs": [
    {
     "data": {
      "text/plain": [
       "x + 2*y + 2*z"
      ]
     },
     "execution_count": 3,
     "metadata": {},
     "output_type": "execute_result"
    }
   ],
   "source": [
    "diff(f,y)"
   ]
  },
  {
   "cell_type": "code",
   "execution_count": 4,
   "metadata": {},
   "outputs": [
    {
     "data": {
      "text/plain": [
       "-2*x + 2*y + 10*z + 2"
      ]
     },
     "execution_count": 4,
     "metadata": {},
     "output_type": "execute_result"
    }
   ],
   "source": [
    "diff(f,z)"
   ]
  },
  {
   "cell_type": "code",
   "execution_count": 9,
   "metadata": {},
   "outputs": [
    {
     "data": {
      "text/plain": [
       "[[x == -2, y == 2, z == -1]]"
      ]
     },
     "execution_count": 9,
     "metadata": {},
     "output_type": "execute_result"
    }
   ],
   "source": [
    "eq1=2*x + y - 2*z==0\n",
    "eq2=x + 2*y + 2*z==0\n",
    "eq3=-2*x + 2*y + 10*z + 2==0\n",
    "solve([eq1,eq2,eq3],x,y,z)"
   ]
  },
  {
   "cell_type": "code",
   "execution_count": 10,
   "metadata": {},
   "outputs": [
    {
     "ename": "NameError",
     "evalue": "name 'hessian' is not defined",
     "output_type": "error",
     "traceback": [
      "\u001b[0;31m---------------------------------------------------------------------------\u001b[0m",
      "\u001b[0;31mNameError\u001b[0m                                 Traceback (most recent call last)",
      "\u001b[0;32m<ipython-input-10-2c0432f52885>\u001b[0m in \u001b[0;36m<module>\u001b[0;34m\u001b[0m\n\u001b[0;32m----> 1\u001b[0;31m \u001b[0mh\u001b[0m\u001b[0;34m=\u001b[0m\u001b[0mhessian\u001b[0m\u001b[0;34m(\u001b[0m\u001b[0mf\u001b[0m\u001b[0;34m)\u001b[0m\u001b[0;34m\u001b[0m\u001b[0;34m\u001b[0m\u001b[0m\n\u001b[0m",
      "\u001b[0;31mNameError\u001b[0m: name 'hessian' is not defined"
     ]
    }
   ],
   "source": [
    "h=hessian(f)"
   ]
  },
  {
   "cell_type": "code",
   "execution_count": 12,
   "metadata": {},
   "outputs": [
    {
     "data": {
      "text/plain": [
       "[ 2  1 -2]\n",
       "[ 1  2  2]\n",
       "[-2  2 10]"
      ]
     },
     "execution_count": 12,
     "metadata": {},
     "output_type": "execute_result"
    }
   ],
   "source": [
    "f.hessian()"
   ]
  },
  {
   "cell_type": "code",
   "execution_count": 13,
   "metadata": {},
   "outputs": [],
   "source": [
    "g(x,y)=x^2+y^2-2*x-y+6"
   ]
  },
  {
   "cell_type": "code",
   "execution_count": 14,
   "metadata": {},
   "outputs": [
    {
     "data": {
      "text/plain": [
       "(x, y) |--> 2*x - 2"
      ]
     },
     "execution_count": 14,
     "metadata": {},
     "output_type": "execute_result"
    }
   ],
   "source": [
    "diff(g,x)"
   ]
  },
  {
   "cell_type": "code",
   "execution_count": 15,
   "metadata": {},
   "outputs": [
    {
     "data": {
      "text/plain": [
       "(x, y) |--> 2*y - 1"
      ]
     },
     "execution_count": 15,
     "metadata": {},
     "output_type": "execute_result"
    }
   ],
   "source": [
    "diff(g,y)"
   ]
  },
  {
   "cell_type": "code",
   "execution_count": 30,
   "metadata": {},
   "outputs": [],
   "source": [
    "g(x,y)=x^2+y^2-2*x-y+6"
   ]
  },
  {
   "cell_type": "code",
   "execution_count": 33,
   "metadata": {},
   "outputs": [],
   "source": [
    "x=1\n",
    "y=1/2"
   ]
  },
  {
   "cell_type": "code",
   "execution_count": 34,
   "metadata": {},
   "outputs": [
    {
     "data": {
      "text/plain": [
       "19/4"
      ]
     },
     "execution_count": 34,
     "metadata": {},
     "output_type": "execute_result"
    }
   ],
   "source": [
    "x^2+y^2-2*x-y+6"
   ]
  },
  {
   "cell_type": "code",
   "execution_count": 35,
   "metadata": {},
   "outputs": [
    {
     "data": {
      "text/plain": [
       "23/4"
      ]
     },
     "execution_count": 35,
     "metadata": {},
     "output_type": "execute_result"
    }
   ],
   "source": [
    "x=0\n",
    "y=1/2\n",
    "x^2+y^2-2*x-y+6"
   ]
  },
  {
   "cell_type": "code",
   "execution_count": 36,
   "metadata": {},
   "outputs": [
    {
     "data": {
      "text/plain": [
       "5"
      ]
     },
     "execution_count": 36,
     "metadata": {},
     "output_type": "execute_result"
    }
   ],
   "source": [
    "x=1\n",
    "y=0\n",
    "x^2+y^2-2*x-y+6"
   ]
  },
  {
   "cell_type": "code",
   "execution_count": 37,
   "metadata": {},
   "outputs": [
    {
     "data": {
      "text/plain": [
       "35/4"
      ]
     },
     "execution_count": 37,
     "metadata": {},
     "output_type": "execute_result"
    }
   ],
   "source": [
    "x=3\n",
    "y=1/2\n",
    "x^2+y^2-2*x-y+6"
   ]
  },
  {
   "cell_type": "code",
   "execution_count": 38,
   "metadata": {},
   "outputs": [
    {
     "data": {
      "text/plain": [
       "7"
      ]
     },
     "execution_count": 38,
     "metadata": {},
     "output_type": "execute_result"
    }
   ],
   "source": [
    "x=1\n",
    "y=2\n",
    "x^2+y^2-2*x-y+6"
   ]
  },
  {
   "cell_type": "code",
   "execution_count": 39,
   "metadata": {},
   "outputs": [
    {
     "data": {
      "text/plain": [
       "11"
      ]
     },
     "execution_count": 39,
     "metadata": {},
     "output_type": "execute_result"
    }
   ],
   "source": [
    "x=3\n",
    "y=2\n",
    "x^2+y^2-2*x-y+6"
   ]
  },
  {
   "cell_type": "code",
   "execution_count": 40,
   "metadata": {},
   "outputs": [
    {
     "data": {
      "text/plain": [
       "6"
      ]
     },
     "execution_count": 40,
     "metadata": {},
     "output_type": "execute_result"
    }
   ],
   "source": [
    "x=0\n",
    "y=0\n",
    "x^2+y^2-2*x-y+6"
   ]
  },
  {
   "cell_type": "code",
   "execution_count": null,
   "metadata": {},
   "outputs": [],
   "source": [
    "x=0\n",
    "y=0\n",
    "x^2+y^2-2*x-y+6"
   ]
  }
 ],
 "metadata": {
  "kernelspec": {
   "display_name": "SageMath 9.2",
   "language": "sage",
   "name": "sagemath"
  },
  "language_info": {
   "codemirror_mode": {
    "name": "ipython",
    "version": 3
   },
   "file_extension": ".py",
   "mimetype": "text/x-python",
   "name": "python",
   "nbconvert_exporter": "python",
   "pygments_lexer": "ipython3",
   "version": "3.7.7"
  }
 },
 "nbformat": 4,
 "nbformat_minor": 4
}
